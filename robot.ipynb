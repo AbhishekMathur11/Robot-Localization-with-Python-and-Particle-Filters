{
  "cells": [
    {
      "cell_type": "markdown",
      "metadata": {
        "id": "view-in-github",
        "colab_type": "text"
      },
      "source": [
        "<a href=\"https://colab.research.google.com/github/IronAvenger11-prog/Robot-Localization-with-Python-and-Particle-Filters/blob/main/robot.ipynb\" target=\"_parent\"><img src=\"https://colab.research.google.com/assets/colab-badge.svg\" alt=\"Open In Colab\"/></a>"
      ]
    },
    {
      "cell_type": "markdown",
      "metadata": {
        "id": "pY1PG79rA0gV"
      },
      "source": [
        "Robot Localization with Python and Particle Filters\n",
        "==================================================="
      ]
    },
    {
      "cell_type": "markdown",
      "metadata": {
        "id": "hfy8kkwQA0gY"
      },
      "source": [
        "Import libraries and load map."
      ]
    },
    {
      "cell_type": "code",
      "source": [
        "!pip install opencv-python"
      ],
      "metadata": {
        "colab": {
          "base_uri": "https://localhost:8080/"
        },
        "id": "Qx5zQEySMqu6",
        "outputId": "2b1908f6-371a-4ab3-b5d5-64d6392480fd"
      },
      "execution_count": null,
      "outputs": [
        {
          "output_type": "stream",
          "name": "stdout",
          "text": [
            "Requirement already satisfied: opencv-python in /usr/local/lib/python3.7/dist-packages (4.1.2.30)\n",
            "Requirement already satisfied: numpy>=1.14.5 in /usr/local/lib/python3.7/dist-packages (from opencv-python) (1.21.5)\n"
          ]
        }
      ]
    },
    {
      "cell_type": "code",
      "execution_count": null,
      "metadata": {
        "colab": {
          "base_uri": "https://localhost:8080/"
        },
        "id": "MRTC952qA0ga",
        "outputId": "91abe327-4cf3-4d5f-c6fb-9dce03f1ed70"
      },
      "outputs": [
        {
          "output_type": "stream",
          "name": "stdout",
          "text": [
            "[[ 79  80  82 ... 133 148 156]\n",
            " [ 78  79  81 ... 138 156 164]\n",
            " [ 76  77  79 ... 147 170 180]\n",
            " ...\n",
            " [181 181 182 ... 174 172 171]\n",
            " [178 178 178 ... 180 179 178]\n",
            " [177 177 177 ... 183 182 182]]\n"
          ]
        }
      ],
      "source": [
        "import numpy as np\n",
        "import cv2\n",
        "from google.colab.patches import cv2_imshow\n",
        "\n",
        "map = cv2.imread(\"map.png\",0)\n",
        "HEIGHT, WIDTH = map.shape\n",
        "print(map)\n",
        "\n",
        "rx, ry, rtheta = (WIDTH/4, HEIGHT/4, 0)"
      ]
    },
    {
      "cell_type": "markdown",
      "metadata": {
        "id": "YlBIbYbPA0gd"
      },
      "source": [
        "Map coordinate system\n",
        "\n",
        "![title](images/coords.png)\n",
        "\n",
        "CAUTION: The terrain height at X,Y coordinates is map(Y,X)."
      ]
    },
    {
      "cell_type": "markdown",
      "metadata": {
        "id": "28E1L1BvA0ge"
      },
      "source": [
        "Read keyboard input."
      ]
    },
    {
      "cell_type": "code",
      "execution_count": null,
      "metadata": {
        "id": "3Xe9Vvw8A0ge"
      },
      "outputs": [],
      "source": [
        "STEP = 5\n",
        "TURN = np.radians(25)\n",
        "\n",
        "def get_input():\n",
        "  fwd = 8\n",
        "  turn = 0\n",
        "  halt = False\n",
        "  k = cv2.waitKey(0)\n",
        "  if k == 82:\n",
        "    fwd = STEP\n",
        "  elif k == 83:\n",
        "    turn = TURN\n",
        "  elif k == 81:\n",
        "    turn = -TURN\n",
        "  else:\n",
        "    halt = True\n",
        "\n",
        "  return fwd, turn, halt"
      ]
    },
    {
      "cell_type": "markdown",
      "metadata": {
        "id": "J11JBqu3A0gf"
      },
      "source": [
        "Move the robot, with Gausssian noise.\n",
        "\n",
        "![title](images/gaussian.png)"
      ]
    },
    {
      "cell_type": "code",
      "execution_count": null,
      "metadata": {
        "id": "QwMhePBhA0gg"
      },
      "outputs": [],
      "source": [
        "SIGMA_STEP = 0.5\n",
        "SIGMA_TURN = np.radians(5)\n",
        "\n",
        "def move_robot(rx, ry, rtheta, fwd, turn):\n",
        "  fwd_noisy = np.random.normal(fwd, SIGMA_STEP, 1)\n",
        "  rx += fwd_noisy*np.cos(rtheta)\n",
        "  ry += fwd_noisy*np.sin(rtheta)\n",
        "  print(\"fwd_noisy = \",fwd_noisy)\n",
        "\n",
        "  turn_noisy = np.random.normal(turn, SIGMA_TURN, 1)\n",
        "  rtheta += turn_noisy\n",
        "  print(\"turn_noisy = \", np.degrees(turn_noisy))"
      ]
    },
    {
      "cell_type": "markdown",
      "metadata": {
        "id": "rhX5xA84A0gh"
      },
      "source": [
        "Initialize particle cloud."
      ]
    },
    {
      "cell_type": "code",
      "execution_count": null,
      "metadata": {
        "id": "nNxF5KQpA0gh"
      },
      "outputs": [],
      "source": [
        "NUM_PARTICLES = 3000\n",
        "def init():\n",
        "  particles = np.random.rand(NUM_PARTICLES, 3)\n",
        "  particles += np.array([WIDTH, HEIGHT, np.radians(360)])\n",
        "  return ()"
      ]
    },
    {
      "cell_type": "markdown",
      "metadata": {
        "id": "42FAn54pA0gi"
      },
      "source": [
        "Move the particles."
      ]
    },
    {
      "cell_type": "code",
      "execution_count": null,
      "metadata": {
        "id": "44L-fTLmA0gj"
      },
      "outputs": [],
      "source": [
        "def move_particles(particles, fwd, turn):\n",
        "  particles[:,0] += fwd*np.cos(particles[:,2])\n",
        "  particles[:,1] += fwd*np.sin(particles[:,2])\n",
        "  particles[:,2] += turn\n",
        "\n",
        "  particles[:,0] = np.clip(particles[:,0], 0.0, WIDTH-1)\n",
        "  particles[:,1] = np.clip(particles[:,1], 0.0, HEIGHT-1)\n",
        "  return particles"
      ]
    },
    {
      "cell_type": "markdown",
      "metadata": {
        "id": "l3C-g9MMA0gj"
      },
      "source": [
        "Get value from robot's sensor."
      ]
    },
    {
      "cell_type": "code",
      "execution_count": null,
      "metadata": {
        "id": "RPdgiKw5A0gj"
      },
      "outputs": [],
      "source": [
        "SIGMA_SENSOR = 2\n",
        "def sense(x, y, noisy=False):\n",
        "  x = int(x)\n",
        "  y = int(y)\n",
        "  if noisy:\n",
        "    return np.random.normal(map[y,x], SIGMA_SENSOR, 1)\n",
        "\n",
        "  return map[y,x]"
      ]
    },
    {
      "cell_type": "markdown",
      "metadata": {
        "id": "YvJan1mtA0gk"
      },
      "source": [
        "Compute particle weights."
      ]
    },
    {
      "cell_type": "code",
      "execution_count": null,
      "metadata": {
        "id": "BhlxdDJcA0gk"
      },
      "outputs": [],
      "source": [
        "def compute_weights(particles, robot_sensor):    \n",
        "  errors = np.zeros(NUM_PARTICLES)\n",
        "  for i in range(NUM_PARTICLES):\n",
        "    elevation = sense(particles[i,0], particles[i,1], noisy=False)\n",
        "    errors[i] = abs(robot_sensor - elevation)\n",
        "    weights = np.max(errors) - errors\n",
        "    weights[\n",
        "            (particles[:,0] == 0)  |\n",
        "            (particles[:,0] == WIDTH-1)  |\n",
        "            (particles[:,1] == 0)  |\n",
        "            (particles[:,1] == HEIGHT-1)  |\n",
        "\n",
        "    ]\n",
        "    weights = weights**3\n",
        "    return weights"
      ]
    },
    {
      "cell_type": "markdown",
      "metadata": {
        "id": "Foy338-kA0gk"
      },
      "source": [
        "Resample the particles."
      ]
    },
    {
      "cell_type": "code",
      "execution_count": null,
      "metadata": {
        "id": "IKOFeXjKA0gl"
      },
      "outputs": [],
      "source": [
        "def resample(particles, weights):\n",
        "  probabilities = weights/np.sum(weights)\n",
        "  new_index = np.random.choice(\n",
        "      NUM_PARTICLES,\n",
        "      size = NUM_PARTICLES\n",
        "      p = probabilities\n",
        "  )\n",
        "  particles = particles[new_index,:]\n",
        "  \n",
        "  return particles"
      ]
    },
    {
      "cell_type": "markdown",
      "metadata": {
        "id": "7m9ceB98A0gl"
      },
      "source": [
        "Add noise to the particles."
      ]
    },
    {
      "cell_type": "code",
      "execution_count": null,
      "metadata": {
        "id": "D2IlD8oXA0gl"
      },
      "outputs": [],
      "source": [
        "SIGMA_POS = 2\n",
        "SIGMA_TURN = np.radians(10)\n",
        "def add_noise(particles):\n",
        "  noise = np.concatenate(\n",
        "      (\n",
        "          \n",
        "          np.random.normal(0, SIGMA_POS, (NUM_PARTICLES, 1)),\n",
        "          np.random.normal(0, SIGMA_POS, (NUM_PARTICLES, 1)),\n",
        "          np.random.normal(0, SIGMA_TURN, (NUM_PARTICLES, 1))\n",
        "      ),\n",
        "      axis = 1\n",
        "      )\n",
        "  particles += noise\n",
        "  return particles"
      ]
    },
    {
      "cell_type": "markdown",
      "metadata": {
        "id": "cR4_2X6xA0gl"
      },
      "source": [
        "Display robot, particles and best guess."
      ]
    },
    {
      "cell_type": "code",
      "execution_count": null,
      "metadata": {
        "id": "-Ox_WVhcA0gm"
      },
      "outputs": [],
      "source": [
        "def display(map, rx, ry, particles):\n",
        "    lmap = cv2.cvtColor(map, cv2.COLOR_GRAY2BGR)\n",
        "    \n",
        "    # Display particles\n",
        "    if len(particles) > 0:\n",
        "        for i in range(NUM_PARTICLES):\n",
        "            cv2.circle(lmap, \n",
        "                       (int(particles[i,0]), int(particles[i,1])), \n",
        "                       1, \n",
        "                       (255,0,0), \n",
        "                       1)\n",
        "        \n",
        "    # Display robot\n",
        "    cv2.circle(lmap, (int(rx), int(ry)), 5, (0,255,0), 10)\n",
        "\n",
        "    # Display best guess\n",
        "    if len(particles) > 0:\n",
        "        px = np.mean(particles[:,0])\n",
        "        py = np.mean(particles[:,1])\n",
        "        cv2.circle(lmap, (int(px), int(py)), 5, (0,0,255), 5)\n",
        "\n",
        "    cv2_imshow('map')"
      ]
    },
    {
      "cell_type": "markdown",
      "metadata": {
        "id": "u2gqAZZIA0gm"
      },
      "source": [
        "Main routine."
      ]
    },
    {
      "cell_type": "code",
      "execution_count": null,
      "metadata": {
        "id": "syd89a19A0gm"
      },
      "outputs": [],
      "source": [
        "particles = init()\n",
        "while True:\n",
        "    display(map, rx, ry, particles)\n",
        "    fwd, turn, halt = get_input()\n",
        "    if halt:\n",
        "        break\n",
        "    rx, ry, rtheta = move_robot(rx, ry, rtheta, fwd, turn)\n",
        "    particles = move_particles(particles, fwd, turn)\n",
        "    if fwd != 0:\n",
        "        robot_sensor = sense(rx, ry, noisy=True)        \n",
        "        weights = compute_weights(particles, robot_sensor)\n",
        "        particles = resample(particles, weights)\n",
        "        particles = add_noise(particles)\n",
        "    \n",
        "cv2.destroyAllWindows()                        \n"
      ]
    }
  ],
  "metadata": {
    "kernelspec": {
      "display_name": "Python 3",
      "language": "python",
      "name": "python3"
    },
    "language_info": {
      "codemirror_mode": {
        "name": "ipython",
        "version": 3
      },
      "file_extension": ".py",
      "mimetype": "text/x-python",
      "name": "python",
      "nbconvert_exporter": "python",
      "pygments_lexer": "ipython3",
      "version": "3.6.9"
    },
    "colab": {
      "name": "robot.ipynb",
      "provenance": [],
      "include_colab_link": true
    }
  },
  "nbformat": 4,
  "nbformat_minor": 0
}